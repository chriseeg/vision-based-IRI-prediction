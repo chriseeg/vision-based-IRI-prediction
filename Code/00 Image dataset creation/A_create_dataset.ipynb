{
  "nbformat": 4,
  "nbformat_minor": 0,
  "metadata": {
    "colab": {
      "name": "rdd_IRI_create_dataset_csv.ipynb",
      "provenance": [],
      "toc_visible": true
    },
    "kernelspec": {
      "name": "python3",
      "display_name": "Python 3"
    }
  },
  "cells": [
    {
      "cell_type": "code",
      "metadata": {
        "id": "Py0mCA5P5v_x"
      },
      "source": [
        "import json\n",
        "from tqdm import tqdm\n",
        "import numpy as np\n",
        "import pandas as pd"
      ],
      "execution_count": null,
      "outputs": []
    },
    {
      "cell_type": "markdown",
      "metadata": {
        "id": "Y28Wc-841-95"
      },
      "source": [
        "#Create Dataset"
      ]
    },
    {
      "cell_type": "code",
      "metadata": {
        "id": "MY-fG6hHG6wD"
      },
      "source": [
        "target_filepath = \"\" #TODO\n",
        "drive_path = \"\" #TODO"
      ],
      "execution_count": null,
      "outputs": []
    },
    {
      "cell_type": "markdown",
      "metadata": {
        "id": "mzkVYw702BjT"
      },
      "source": [
        "Import geojson files"
      ]
    },
    {
      "cell_type": "code",
      "metadata": {
        "id": "BgQyjGP3aoGB"
      },
      "source": [
        "def open_json(json_path):\n",
        "  with open(json_path) as f:\n",
        "    data = json.load(f)\n",
        "  return data\n",
        "\n",
        "iri_data = open_json(drive_path + \"/02 Development/data/99 meta/IRI_201908.geojson\")[\"features\"]\n",
        "img_data = open_json(drive_path + \"/02 Development/data/99 meta/Aufnahmepunkte_GeoJPG_201908 mit Straßentyp.geojson\")[\"features\"]\n",
        "rides_data = open_json(drive_path + \"/02 Development/data/99 meta/Befahrung_201908.geojson\")[\"features\"]"
      ],
      "execution_count": null,
      "outputs": []
    },
    {
      "cell_type": "markdown",
      "metadata": {
        "id": "pfT6FKEz2MpZ"
      },
      "source": [
        "Recorded rides with sensor vehicle"
      ]
    },
    {
      "cell_type": "code",
      "metadata": {
        "id": "YTff3CvmeyKO",
        "colab": {
          "base_uri": "https://localhost:8080/",
          "height": 247
        },
        "outputId": "76b5f703-335d-48e5-b6d9-2f27487afe9a"
      },
      "source": [
        "rides = [i[\"properties\"][\"_VIDEO\"] for i in rides_data]\n",
        "rides"
      ],
      "execution_count": null,
      "outputs": [
        {
          "output_type": "execute_result",
          "data": {
            "text/plain": [
              "['20190819_12-50-08-839',\n",
              " '20190814_14-44-24-433',\n",
              " '20190819_10-32-50-611',\n",
              " '20190819_12-00-05-082',\n",
              " '20190816_10-30-47-864',\n",
              " '20190819_11-15-57-991',\n",
              " '20190816_11-08-09-342',\n",
              " '20190819_12-26-11-227',\n",
              " '20190816_10-09-20-137',\n",
              " '20190819_13-39-58-707',\n",
              " '20190819_13-48-34-589',\n",
              " '20190819_13-57-11-762',\n",
              " '20190819_14-39-18-092']"
            ]
          },
          "metadata": {
            "tags": []
          },
          "execution_count": 3
        }
      ]
    },
    {
      "cell_type": "markdown",
      "metadata": {
        "id": "tWFuy1st2XNj"
      },
      "source": [
        "#Connect IRI data to image data\n",
        "In the recorded data each IRI value is assigned to a road segment.\n",
        "In this function, the three closest segments to an image are calculated. The IRI value of the upcoming segment is offset by applying weights based on the distance to the segment"
      ]
    },
    {
      "cell_type": "code",
      "metadata": {
        "id": "0PTaPxxJH-1M"
      },
      "source": [
        "import numpy as np\n",
        "\n",
        "# Get indices of the images that are closest to the iri segment of the given ride\n",
        "def get_k_closest_images(segm_coordinates, ride_video, img_data, k=1):  \n",
        "  p1 = np.array(segm_coordinates[0])\n",
        "  p2 = np.array(segm_coordinates[1])\n",
        "  distances = []\n",
        "  ride_imgs = []\n",
        "\n",
        "  for img in img_data:\n",
        "    if img[\"properties\"][\"DATE\"]+\"_\"+img[\"properties\"][\"TIME\"] == ride_video:\n",
        "      ride_imgs.append(img)\n",
        "\n",
        "      p3 = np.array(img[\"geometry\"][\"coordinates\"][0:2])    \n",
        "      distance = abs(np.linalg.norm(p1-p3) + np.linalg.norm(p2-p3))\n",
        "      distances.append(distance)\n",
        "  distances = np.array(distances)\n",
        "  idx = np.argpartition(distances, k)\n",
        "  print(distances[idx[:k]])\n",
        "  print(idx[:k])\n",
        "\n",
        "  print([ride_imgs[i] for i in idx[:k]])\n",
        "  result_image_names = [ride_imgs[i][\"properties\"][\"NAME\"] for i in idx[:k]]\n",
        "  return result_image_names\n",
        "\n",
        "def get_iri_for_closest_segment(img, ride_video, iri_data, front_weighted_calculation = False):\n",
        "  p0 = np.array(img[\"geometry\"][\"coordinates\"][0:2])\n",
        "  closest_segm = {\"dist\":100,\n",
        "             \"segm\":0}\n",
        "  sec_closest_segm = {\"dist\":100,\n",
        "                 \"segm\":0}\n",
        "  thi_closest_segm = {\"dist\":100,\n",
        "                 \"segm\":0}\n",
        "\n",
        "  # calculate IRI segment that is closest to the image position\n",
        "  for d in iri_data:\n",
        "    if d[\"properties\"][\"VIDEO\"] == ride_video:\n",
        "      if d[\"properties\"][\"IRIC_CLASS\"] != \"NV\":\n",
        "        p1 = np.array(d[\"geometry\"][\"coordinates\"][0])\n",
        "        p2 = np.array(d[\"geometry\"][\"coordinates\"][1])\n",
        "        m = (p2 - p1) / 2 + p1\n",
        "        distance = abs(np.linalg.norm(p0-m))\n",
        "        if distance < closest_segm[\"dist\"]:\n",
        "          thi_closest_segm = sec_closest_segm\n",
        "          sec_closest_segm = closest_segm\n",
        "          closest_segm = {\"dist\" : distance,\n",
        "                    \"segm\" : d}\n",
        "        elif distance < sec_closest_segm[\"dist\"]:\n",
        "          thi_closest_segm = sec_closest_segm\n",
        "          sec_closest_segm = {\"dist\" : distance,\n",
        "                        \"segm\" : d}\n",
        "        elif distance < thi_closest_segm[\"dist\"]:\n",
        "          thi_closest_segm = {\"dist\" : distance,\n",
        "                        \"segm\" : d}\n",
        "  unsorted_segmts = [closest_segm,sec_closest_segm,thi_closest_segm]\n",
        "  \n",
        "  # unused approach of calculating the IRI value of the IRI segment ahead of the image position\n",
        "  if front_weighted_calculation:\n",
        "    sorted_segmts = sorted(unsorted_segmts, key=lambda k: k[\"segm\"]['properties'][\"Abnr\"])\n",
        "\n",
        "    iri_1 = int(sorted_segmts[0][\"segm\"][\"properties\"][\"IRIC_CLASS\"])\n",
        "    iri_2 = int(sorted_segmts[1][\"segm\"][\"properties\"][\"IRIC_CLASS\"])\n",
        "    iri_3 = int(sorted_segmts[2][\"segm\"][\"properties\"][\"IRIC_CLASS\"])\n",
        "    d1 = float(sorted_segmts[0][\"dist\"])\n",
        "    d2 = float(sorted_segmts[1][\"dist\"])\n",
        "    d3 = float(sorted_segmts[2][\"dist\"])\n",
        "\n",
        "    # Calculation to get IRI value of segment in front of image\n",
        "    if d1 <= d3:\n",
        "      x = (d1-d2)/(d2+d1)\n",
        "    elif d1 > d3:\n",
        "      x = (d3-d2)/(d3+d2) + 0.5\n",
        "\n",
        "    weight_2 = min(max(1 - x,0),1)\n",
        "    weight_3 = min(max(x,0),1)\n",
        "\n",
        "    iri_class_result = (iri_2 * weight_2 + iri_3 * weight_3) / (weight_2 + weight_3)\n",
        "    distance_result = d2\n",
        "    return iri_class_result, distance_result\n",
        "  else:\n",
        "    # Use IRI value of closest segment\n",
        "    iri_class_result = int(unsorted_segmts[0][\"segm\"][\"properties\"][\"IRIC_CLASS\"])\n",
        "    iri_cont_result = float(unsorted_segmts[0][\"segm\"][\"properties\"][\"IRIC_m_km\"])\n",
        "    distance_result = float(unsorted_segmts[0][\"dist\"])\n",
        "  \n",
        "  return iri_class_result, iri_cont_result, distance_result"
      ],
      "execution_count": null,
      "outputs": []
    },
    {
      "cell_type": "markdown",
      "metadata": {
        "id": "1891JJ_g8Mx5"
      },
      "source": [
        "#Run function and save csv fie\n"
      ]
    },
    {
      "cell_type": "code",
      "metadata": {
        "id": "Lu0YDXBL8Prb"
      },
      "source": [
        "datapoints = []\n",
        "\n",
        "ROUND_IRI_VALUES = True\n",
        "\n",
        "# Iterating rides to ensure distinct IRI assignment\n",
        "for ride_video in tqdm(rides):\n",
        "  ride_imgs = [i for i in img_data if i[\"properties\"][\"DATE\"]+\"_\"+i[\"properties\"][\"TIME\"] == ride_video]\n",
        "  for img in ride_imgs:\n",
        "    iri_class,iri_cont,dist = get_iri_for_closest_segment(img, ride_video, iri_data)\n",
        "    if dist < 0.00014:\n",
        "      img_name = img[\"properties\"][\"NAME\"]\n",
        "      if ROUND_IRI_VALUES:\n",
        "        iri_class = round(iri_class)\n",
        "      datapoints.append([img_name,iri_class,iri_cont])\n",
        "df_data = pd.DataFrame(datapoints)\n",
        "\n",
        "df_data.to_csv(target_filepath,index = False,header = False)"
      ],
      "execution_count": null,
      "outputs": []
    }
  ]
}